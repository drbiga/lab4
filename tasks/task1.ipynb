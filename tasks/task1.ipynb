{
 "cells": [
  {
   "cell_type": "markdown",
   "id": "054dad85",
   "metadata": {},
   "source": [
    "# Task 1 - Qiskit Basics\n",
    "\n",
    "This task involves using simple gates functionality in Qiskit."
   ]
  },
  {
   "cell_type": "code",
   "execution_count": 14,
   "id": "6e0c7089",
   "metadata": {},
   "outputs": [],
   "source": [
    "# Add imports here, do not add any other code in this cell\n",
    "import qiskit as qk\n",
    "from qiskit import QuantumRegister, ClassicalRegister\n",
    "from qiskit.quantum_info import Statevector"
   ]
  },
  {
   "cell_type": "code",
   "execution_count": 8,
   "id": "ae870e77",
   "metadata": {},
   "outputs": [
    {
     "name": "stdout",
     "output_type": "stream",
     "text": [
      "          ┌─┐   \n",
      "q_0: ─────┤M├───\n",
      "     ┌───┐└╥┘┌─┐\n",
      "q_1: ┤ X ├─╫─┤M├\n",
      "     └───┘ ║ └╥┘\n",
      "c: 2/══════╩══╩═\n",
      "           0  1 \n"
     ]
    }
   ],
   "source": [
    "# Task 1.1 - Initialize a Quantum Circuit with 2 qubits and apply an X gate to the second qubit.\n",
    "# Then, measure all qubits and draw the circuit using the default text drawer.\n",
    "qc = qk.QuantumCircuit(2, 2)\n",
    "qc.x(1)\n",
    "qc.measure([0, 1], [0, 1])\n",
    "print(qc)"
   ]
  },
  {
   "cell_type": "code",
   "execution_count": 10,
   "id": "9c85b25e",
   "metadata": {},
   "outputs": [
    {
     "name": "stdout",
     "output_type": "stream",
     "text": [
      "     ┌───┐┌─┐   \n",
      "q_0: ┤ H ├┤M├───\n",
      "     ├───┤└╥┘┌─┐\n",
      "q_1: ┤ H ├─╫─┤M├\n",
      "     └───┘ ║ └╥┘\n",
      "c: 2/══════╩══╩═\n",
      "           0  1 \n"
     ]
    }
   ],
   "source": [
    "# Task 1.2 - Initialize a Quantum Circuit with 2 qubits and 2 classical bits, apply an H gate to both qubits.\n",
    "# Use a single H gate call and a single measure call.\n",
    "# Then, measure all qubits on the initialized classical bits, and draw the circuit in matplotlib style.\n",
    "\n",
    "qc2 = qk.QuantumCircuit(2, 2)\n",
    "qc2.h(0)\n",
    "qc2.h(1)\n",
    "qc2.measure([0, 1], [0, 1])\n",
    "print(qc2)"
   ]
  },
  {
   "cell_type": "code",
   "execution_count": 15,
   "id": "73d72a2f",
   "metadata": {},
   "outputs": [
    {
     "name": "stdout",
     "output_type": "stream",
     "text": [
      "     ┌───┐     ┌─┐   \n",
      "Q_0: ┤ H ├──■──┤M├───\n",
      "     └───┘┌─┴─┐└╥┘┌─┐\n",
      "Q_1: ─────┤ X ├─╫─┤M├\n",
      "          └───┘ ║ └╥┘\n",
      "C: 2/═══════════╩══╩═\n",
      "                0  1 \n"
     ]
    }
   ],
   "source": [
    "# Task 1.3 - Initialize a quantum register and a classical register with 2 qubits/bits each.\n",
    "# Create a quantum circuit using these registers.\n",
    "# Name the quantum register \"Q\" and the classical register \"C\".\n",
    "# Create a bell pair\n",
    "# Measure all qubits on the classical bits and draw the circuit using the default text drawer.\n",
    "\n",
    "# Q = Statevector()\n",
    "q = QuantumRegister(2, \"Q\")\n",
    "c = ClassicalRegister(2, \"C\")\n",
    "circ = qk.QuantumCircuit(q, c)\n",
    "circ.h(q[0])\n",
    "circ.cx(q[0], q[1])\n",
    "circ.measure(q, c)\n",
    "print(circ)"
   ]
  },
  {
   "cell_type": "code",
   "execution_count": 17,
   "id": "3e50bfc5",
   "metadata": {},
   "outputs": [
    {
     "name": "stdout",
     "output_type": "stream",
     "text": [
      "Depth: 3\n",
      "Size: 4\n"
     ]
    }
   ],
   "source": [
    "# Task 1.4 - Print the depth and size of the circuit created in Task 1.3\n",
    "print('Depth:', circ.depth())\n",
    "print('Size:', circ.size())"
   ]
  }
 ],
 "metadata": {
  "kernelspec": {
   "display_name": ".venv (3.11.7)",
   "language": "python",
   "name": "python3"
  },
  "language_info": {
   "codemirror_mode": {
    "name": "ipython",
    "version": 3
   },
   "file_extension": ".py",
   "mimetype": "text/x-python",
   "name": "python",
   "nbconvert_exporter": "python",
   "pygments_lexer": "ipython3",
   "version": "3.11.7"
  }
 },
 "nbformat": 4,
 "nbformat_minor": 5
}
