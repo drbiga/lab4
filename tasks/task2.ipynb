{
 "cells": [
  {
   "cell_type": "markdown",
   "id": "dfb4f2f7",
   "metadata": {},
   "source": [
    "# Task 2 - Qiskit State Vector\n",
    "\n",
    "This task involves using State Vector.\n",
    "We will skip latex visualization because it involves installing an external library (poppler). Try this on your own."
   ]
  },
  {
   "cell_type": "code",
   "execution_count": 19,
   "id": "d6bbf41c",
   "metadata": {},
   "outputs": [],
   "source": [
    "# Add imports here, do not add any other code in this cell\n",
    "from qiskit import QuantumCircuit\n",
    "from qiskit.quantum_info import Statevector"
   ]
  },
  {
   "cell_type": "code",
   "execution_count": 20,
   "id": "9b6196a9",
   "metadata": {},
   "outputs": [
    {
     "data": {
      "text/latex": [
       "$$\\frac{\\sqrt{2}}{2} |000\\rangle- \\frac{\\sqrt{2}}{2} |111\\rangle$$"
      ],
      "text/plain": [
       "<IPython.core.display.Latex object>"
      ]
     },
     "execution_count": 20,
     "metadata": {},
     "output_type": "execute_result"
    }
   ],
   "source": [
    "# Task 2.1 - Create a state vector and a GHZ- circuit. Evolve the state vector using the circuit.\n",
    "# Draw the state vector in qsphere format and observe the result.\n",
    "circ = QuantumCircuit(3, 3)\n",
    "sv = Statevector.from_int(0, 2**3)\n",
    "circ.h(0)\n",
    "circ.cx(0, 1)\n",
    "circ.cx(0, 2)\n",
    "circ.z(0)\n",
    "sv = sv.evolve(circ)\n",
    "sv.draw('latex')"
   ]
  },
  {
   "cell_type": "code",
   "execution_count": 21,
   "id": "d219eaa0",
   "metadata": {},
   "outputs": [
    {
     "name": "stdout",
     "output_type": "stream",
     "text": [
      "     ┌───┐          ┌───┐\n",
      "q_0: ┤ H ├──■────■──┤ Z ├\n",
      "     └───┘┌─┴─┐  │  └───┘\n",
      "q_1: ─────┤ X ├──┼───────\n",
      "          └───┘┌─┴─┐     \n",
      "q_2: ──────────┤ X ├─────\n",
      "               └───┘     \n",
      "c: 3/════════════════════\n",
      "                         \n"
     ]
    }
   ],
   "source": [
    "# Task 2.2 - From the task 2.1 circuit, draw the circuit in text format.\n",
    "print(circ)"
   ]
  },
  {
   "cell_type": "code",
   "execution_count": 22,
   "id": "9450a217",
   "metadata": {},
   "outputs": [
    {
     "data": {
      "text/latex": [
       "$$\\frac{\\sqrt{2}}{2} |000\\rangle- \\frac{\\sqrt{2}}{2} |111\\rangle$$"
      ],
      "text/plain": [
       "<IPython.core.display.Latex object>"
      ]
     },
     "execution_count": 22,
     "metadata": {},
     "output_type": "execute_result"
    }
   ],
   "source": [
    "# Task 2.3 - Create a state vector. Create a GHZ- circuit with a bell pair and an additional circuit to entangle the third qubit.\n",
    "# In other words, you will create 1 state, 2 circuits.\n",
    "# Verify the output with Task 2.1 and Task 2.2.\n",
    "\n",
    "sv = Statevector.from_int(0, 2**3)\n",
    "circ1 = QuantumCircuit(3, 3)\n",
    "circ1.h(0)\n",
    "circ1.cx(0, 1)\n",
    "\n",
    "circ2 = QuantumCircuit(3, 3)\n",
    "circ2.cx(0, 2)\n",
    "circ2.z(0)\n",
    "\n",
    "sv = sv.evolve(circ1)\n",
    "sv = sv.evolve(circ2)\n",
    "sv.draw('latex')"
   ]
  }
 ],
 "metadata": {
  "kernelspec": {
   "display_name": ".venv (3.11.7)",
   "language": "python",
   "name": "python3"
  },
  "language_info": {
   "codemirror_mode": {
    "name": "ipython",
    "version": 3
   },
   "file_extension": ".py",
   "mimetype": "text/x-python",
   "name": "python",
   "nbconvert_exporter": "python",
   "pygments_lexer": "ipython3",
   "version": "3.11.7"
  }
 },
 "nbformat": 4,
 "nbformat_minor": 5
}
